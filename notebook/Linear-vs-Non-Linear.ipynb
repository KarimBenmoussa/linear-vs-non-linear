{
 "cells": [
  {
   "cell_type": "code",
   "execution_count": null,
   "metadata": {},
   "outputs": [],
   "source": [
    "import collections\n",
    "import matplotlib.pyplot\n",
    "import numpy as np\n",
    "import openml\n",
    "import sklearn\n",
    "%matplotlib inline"
   ]
  },
  {
   "cell_type": "code",
   "execution_count": null,
   "metadata": {},
   "outputs": [],
   "source": [
    "# determine some examplar setup ids\n",
    "\n",
    "examplar_setup_ids_svm = (7130285, 7130286)\n",
    "examplar_setup_ids_ann = (7130157, 7130159)\n",
    "examplar_setup_ids_dt  = (7130853, 7130854)\n",
    "\n",
    "examplar_setup_ids_all = {'Support Vector Machines': examplar_setup_ids_svm, \n",
    "                          'Neural Networks': examplar_setup_ids_ann, \n",
    "                          'Decision Trees': examplar_setup_ids_dt}\n",
    "\n",
    "study_id = 123\n",
    "tag = 'study_%d' % study_id\n",
    "study = openml.study.get_study(study_id, 'tasks')\n",
    "measure = 'predictive_accuracy'\n",
    "\n",
    "meta_feature_x_axis = 'NumberOfInstances'\n",
    "meta_feature_y_axis = 'NumberOfAttributes'"
   ]
  },
  {
   "cell_type": "code",
   "execution_count": null,
   "metadata": {},
   "outputs": [],
   "source": [
    "# obtain the meta-features per task\n",
    "task_metafeatures = dict()\n",
    "for task_id in study.tasks:\n",
    "    current_task = openml.tasks.get_task(task_id)\n",
    "    task_metafeatures[task_id] = current_task.get_dataset().qualities\n"
   ]
  },
  {
   "cell_type": "code",
   "execution_count": null,
   "metadata": {},
   "outputs": [],
   "source": [
    "# obtain the evaluations\n",
    "setup_task_evaluation = collections.defaultdict(dict)\n",
    "for setup_id in examplar_setup_ids_svm:\n",
    "    examplar_setup = openml.setups.get_setup(setup_id)\n",
    "    all_setups = openml.setups.get_partial_setup(examplar_setup, ['categorical_features', 'random_state'])\n",
    "    print('Obtained %d setups for examplar setup_id ' % (len(all_setups), setup_id))\n",
    "    evaluations = openml.evaluations.list_evaluations(measure,\n",
    "                                                      flow=[examplar_setup.flow_id], \n",
    "                                                      setup=all_setups.keys(), \n",
    "                                                      task=study.tasks)\n",
    "    for run_id, evaluation in evaluations.items():\n",
    "        setup_task_evaluation[setup_id][evaluation.task_id] = evaluation.value\n"
   ]
  },
  {
   "cell_type": "code",
   "execution_count": null,
   "metadata": {},
   "outputs": [],
   "source": [
    "# S-Plot:\n"
   ]
  }
 ],
 "metadata": {
  "kernelspec": {
   "display_name": "Python 3",
   "language": "python",
   "name": "python3"
  },
  "language_info": {
   "codemirror_mode": {
    "name": "ipython",
    "version": 3
   },
   "file_extension": ".py",
   "mimetype": "text/x-python",
   "name": "python",
   "nbconvert_exporter": "python",
   "pygments_lexer": "ipython3",
   "version": "3.6.5"
  }
 },
 "nbformat": 4,
 "nbformat_minor": 2
}
